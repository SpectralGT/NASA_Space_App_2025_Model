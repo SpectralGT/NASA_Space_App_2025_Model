{
 "cells": [
  {
   "cell_type": "code",
   "execution_count": 1,
   "id": "42ecd855",
   "metadata": {
    "_cell_guid": "b1076dfc-b9ad-4769-8c92-a6c4dae69d19",
    "_uuid": "8f2839f25d086af736a60e9eeb907d3b93b6e0e5",
    "execution": {
     "iopub.execute_input": "2025-10-04T20:54:33.615870Z",
     "iopub.status.busy": "2025-10-04T20:54:33.615474Z",
     "iopub.status.idle": "2025-10-04T20:54:34.781273Z",
     "shell.execute_reply": "2025-10-04T20:54:34.779810Z"
    },
    "papermill": {
     "duration": 1.175048,
     "end_time": "2025-10-04T20:54:34.783448",
     "exception": false,
     "start_time": "2025-10-04T20:54:33.608400",
     "status": "completed"
    },
    "tags": []
   },
   "outputs": [],
   "source": [
    "# This Python 3 environment comes with many helpful analytics libraries installed\n",
    "# It is defined by the kaggle/python Docker image: https://github.com/kaggle/docker-python\n",
    "# For example, here's several helpful packages to load\n",
    "\n",
    "import numpy as np # linear algebra\n",
    "import pandas as pd # data processing, CSV file I/O (e.g. pd.read_csv)\n",
    "\n",
    "# Input data files are available in the read-only \"../input/\" directory\n",
    "# For example, running this (by clicking run or pressing Shift+Enter) will list all files under the input directory\n",
    "\n",
    "import os\n",
    "for dirname, _, filenames in os.walk('/kaggle/input'):\n",
    "    for filename in filenames:\n",
    "        print(os.path.join(dirname, filename))\n",
    "\n",
    "# You can write up to 20GB to the current directory (/kaggle/working/) that gets preserved as output when you create a version using \"Save & Run All\" \n",
    "# You can also write temporary files to /kaggle/temp/, but they won't be saved outside of the current session"
   ]
  },
  {
   "cell_type": "code",
   "execution_count": 2,
   "id": "0be16573",
   "metadata": {
    "execution": {
     "iopub.execute_input": "2025-10-04T20:54:34.797927Z",
     "iopub.status.busy": "2025-10-04T20:54:34.797378Z",
     "iopub.status.idle": "2025-10-04T20:54:37.546610Z",
     "shell.execute_reply": "2025-10-04T20:54:37.545463Z"
    },
    "papermill": {
     "duration": 2.75834,
     "end_time": "2025-10-04T20:54:37.548608",
     "exception": false,
     "start_time": "2025-10-04T20:54:34.790268",
     "status": "completed"
    },
    "tags": []
   },
   "outputs": [],
   "source": [
    "# Importing liabraries\n",
    "import pandas as pd\n",
    "import numpy as np\n",
    "import matplotlib.pyplot as plt\n",
    "import seaborn as sns\n",
    "from sklearn.model_selection import train_test_split\n",
    "from sklearn.preprocessing import LabelEncoder\n",
    "from sklearn.ensemble import RandomForestClassifier\n",
    "from sklearn.metrics import classification_report, accuracy_score"
   ]
  },
  {
   "cell_type": "code",
   "execution_count": 3,
   "id": "be048bda",
   "metadata": {
    "execution": {
     "iopub.execute_input": "2025-10-04T20:54:37.560463Z",
     "iopub.status.busy": "2025-10-04T20:54:37.559936Z",
     "iopub.status.idle": "2025-10-04T20:54:37.709792Z",
     "shell.execute_reply": "2025-10-04T20:54:37.708434Z"
    },
    "papermill": {
     "duration": 0.158436,
     "end_time": "2025-10-04T20:54:37.712264",
     "exception": false,
     "start_time": "2025-10-04T20:54:37.553828",
     "status": "completed"
    },
    "tags": []
   },
   "outputs": [],
   "source": [
    "# Load the dataset\n",
    "df = pd.read_csv('./NASAExoplanet.csv')\n"
   ]
  },
  {
   "cell_type": "code",
   "execution_count": 4,
   "id": "ab2fe3db",
   "metadata": {
    "execution": {
     "iopub.execute_input": "2025-10-04T20:54:37.725907Z",
     "iopub.status.busy": "2025-10-04T20:54:37.725506Z",
     "iopub.status.idle": "2025-10-04T20:54:37.759393Z",
     "shell.execute_reply": "2025-10-04T20:54:37.757830Z"
    },
    "papermill": {
     "duration": 0.04395,
     "end_time": "2025-10-04T20:54:37.761601",
     "exception": false,
     "start_time": "2025-10-04T20:54:37.717651",
     "status": "completed"
    },
    "tags": []
   },
   "outputs": [
    {
     "name": "stdout",
     "output_type": "stream",
     "text": [
      "First 5 rows of the dataset:\n",
      "      kepid kepoi_name   kepler_name koi_disposition koi_pdisposition  \\\n",
      "0  10797460  K00752.01  Kepler-227 b       CONFIRMED        CANDIDATE   \n",
      "1  10797460  K00752.02  Kepler-227 c       CONFIRMED        CANDIDATE   \n",
      "2  10811496  K00753.01           NaN       CANDIDATE        CANDIDATE   \n",
      "3  10848459  K00754.01           NaN  FALSE POSITIVE   FALSE POSITIVE   \n",
      "4  10854555  K00755.01  Kepler-664 b       CONFIRMED        CANDIDATE   \n",
      "\n",
      "   koi_score  koi_fpflag_nt  koi_fpflag_ss  koi_fpflag_co  koi_fpflag_ec  ...  \\\n",
      "0      1.000              0              0              0              0  ...   \n",
      "1      0.969              0              0              0              0  ...   \n",
      "2      0.000              0              0              0              0  ...   \n",
      "3      0.000              0              1              0              0  ...   \n",
      "4      1.000              0              0              0              0  ...   \n",
      "\n",
      "   koi_steff_err2  koi_slogg  koi_slogg_err1  koi_slogg_err2  koi_srad  \\\n",
      "0           -81.0      4.467           0.064          -0.096     0.927   \n",
      "1           -81.0      4.467           0.064          -0.096     0.927   \n",
      "2          -176.0      4.544           0.044          -0.176     0.868   \n",
      "3          -174.0      4.564           0.053          -0.168     0.791   \n",
      "4          -211.0      4.438           0.070          -0.210     1.046   \n",
      "\n",
      "   koi_srad_err1  koi_srad_err2         ra        dec  koi_kepmag  \n",
      "0          0.105         -0.061  291.93423  48.141651      15.347  \n",
      "1          0.105         -0.061  291.93423  48.141651      15.347  \n",
      "2          0.233         -0.078  297.00482  48.134129      15.436  \n",
      "3          0.201         -0.067  285.53461  48.285210      15.597  \n",
      "4          0.334         -0.133  288.75488  48.226200      15.509  \n",
      "\n",
      "[5 rows x 49 columns]\n"
     ]
    }
   ],
   "source": [
    "# Display the first few rows to confirm it's loaded correctly\n",
    "print(\"First 5 rows of the dataset:\")\n",
    "print(df.head())"
   ]
  },
  {
   "cell_type": "code",
   "execution_count": 5,
   "id": "e47d0e63",
   "metadata": {
    "execution": {
     "iopub.execute_input": "2025-10-04T20:54:37.774291Z",
     "iopub.status.busy": "2025-10-04T20:54:37.773845Z",
     "iopub.status.idle": "2025-10-04T20:54:37.782631Z",
     "shell.execute_reply": "2025-10-04T20:54:37.781033Z"
    },
    "papermill": {
     "duration": 0.017038,
     "end_time": "2025-10-04T20:54:37.784404",
     "exception": false,
     "start_time": "2025-10-04T20:54:37.767366",
     "status": "completed"
    },
    "tags": []
   },
   "outputs": [
    {
     "name": "stdout",
     "output_type": "stream",
     "text": [
      "Column Names:\n",
      "Index(['kepid', 'kepoi_name', 'kepler_name', 'koi_disposition',\n",
      "       'koi_pdisposition', 'koi_score', 'koi_fpflag_nt', 'koi_fpflag_ss',\n",
      "       'koi_fpflag_co', 'koi_fpflag_ec', 'koi_period', 'koi_period_err1',\n",
      "       'koi_period_err2', 'koi_time0bk', 'koi_time0bk_err1',\n",
      "       'koi_time0bk_err2', 'koi_impact', 'koi_impact_err1', 'koi_impact_err2',\n",
      "       'koi_duration', 'koi_duration_err1', 'koi_duration_err2', 'koi_depth',\n",
      "       'koi_depth_err1', 'koi_depth_err2', 'koi_prad', 'koi_prad_err1',\n",
      "       'koi_prad_err2', 'koi_teq', 'koi_teq_err1', 'koi_teq_err2', 'koi_insol',\n",
      "       'koi_insol_err1', 'koi_insol_err2', 'koi_model_snr', 'koi_tce_plnt_num',\n",
      "       'koi_tce_delivname', 'koi_steff', 'koi_steff_err1', 'koi_steff_err2',\n",
      "       'koi_slogg', 'koi_slogg_err1', 'koi_slogg_err2', 'koi_srad',\n",
      "       'koi_srad_err1', 'koi_srad_err2', 'ra', 'dec', 'koi_kepmag'],\n",
      "      dtype='object')\n",
      "\n",
      "Data Types:\n",
      "kepid                  int64\n",
      "kepoi_name            object\n",
      "kepler_name           object\n",
      "koi_disposition       object\n",
      "koi_pdisposition      object\n",
      "koi_score            float64\n",
      "koi_fpflag_nt          int64\n",
      "koi_fpflag_ss          int64\n",
      "koi_fpflag_co          int64\n",
      "koi_fpflag_ec          int64\n",
      "koi_period           float64\n",
      "koi_period_err1      float64\n",
      "koi_period_err2      float64\n",
      "koi_time0bk          float64\n",
      "koi_time0bk_err1     float64\n",
      "koi_time0bk_err2     float64\n",
      "koi_impact           float64\n",
      "koi_impact_err1      float64\n",
      "koi_impact_err2      float64\n",
      "koi_duration         float64\n",
      "koi_duration_err1    float64\n",
      "koi_duration_err2    float64\n",
      "koi_depth            float64\n",
      "koi_depth_err1       float64\n",
      "koi_depth_err2       float64\n",
      "koi_prad             float64\n",
      "koi_prad_err1        float64\n",
      "koi_prad_err2        float64\n",
      "koi_teq              float64\n",
      "koi_teq_err1         float64\n",
      "koi_teq_err2         float64\n",
      "koi_insol            float64\n",
      "koi_insol_err1       float64\n",
      "koi_insol_err2       float64\n",
      "koi_model_snr        float64\n",
      "koi_tce_plnt_num     float64\n",
      "koi_tce_delivname     object\n",
      "koi_steff            float64\n",
      "koi_steff_err1       float64\n",
      "koi_steff_err2       float64\n",
      "koi_slogg            float64\n",
      "koi_slogg_err1       float64\n",
      "koi_slogg_err2       float64\n",
      "koi_srad             float64\n",
      "koi_srad_err1        float64\n",
      "koi_srad_err2        float64\n",
      "ra                   float64\n",
      "dec                  float64\n",
      "koi_kepmag           float64\n",
      "dtype: object\n"
     ]
    }
   ],
   "source": [
    "# Display column names\n",
    "print(\"Column Names:\")\n",
    "print(df.columns)\n",
    "\n",
    "# Check data types\n",
    "print(\"\\nData Types:\")\n",
    "print(df.dtypes)"
   ]
  },
  {
   "cell_type": "code",
   "execution_count": 6,
   "id": "9c5037c1",
   "metadata": {
    "execution": {
     "iopub.execute_input": "2025-10-04T20:54:37.798156Z",
     "iopub.status.busy": "2025-10-04T20:54:37.797616Z",
     "iopub.status.idle": "2025-10-04T20:54:37.813602Z",
     "shell.execute_reply": "2025-10-04T20:54:37.811529Z"
    },
    "papermill": {
     "duration": 0.025473,
     "end_time": "2025-10-04T20:54:37.815751",
     "exception": false,
     "start_time": "2025-10-04T20:54:37.790278",
     "status": "completed"
    },
    "tags": []
   },
   "outputs": [
    {
     "name": "stdout",
     "output_type": "stream",
     "text": [
      "\n",
      "Missing Values:\n",
      "kepid                   0\n",
      "kepoi_name              0\n",
      "kepler_name          6819\n",
      "koi_disposition         0\n",
      "koi_pdisposition        0\n",
      "koi_score            1510\n",
      "koi_fpflag_nt           0\n",
      "koi_fpflag_ss           0\n",
      "koi_fpflag_co           0\n",
      "koi_fpflag_ec           0\n",
      "koi_period              0\n",
      "koi_period_err1       454\n",
      "koi_period_err2       454\n",
      "koi_time0bk             0\n",
      "koi_time0bk_err1      454\n",
      "koi_time0bk_err2      454\n",
      "koi_impact            363\n",
      "koi_impact_err1       454\n",
      "koi_impact_err2       454\n",
      "koi_duration            0\n",
      "koi_duration_err1     454\n",
      "koi_duration_err2     454\n",
      "koi_depth             363\n",
      "koi_depth_err1        454\n",
      "koi_depth_err2        454\n",
      "koi_prad              363\n",
      "koi_prad_err1         363\n",
      "koi_prad_err2         363\n",
      "koi_teq               363\n",
      "koi_teq_err1         9564\n",
      "koi_teq_err2         9564\n",
      "koi_insol             321\n",
      "koi_insol_err1        321\n",
      "koi_insol_err2        321\n",
      "koi_model_snr         363\n",
      "koi_tce_plnt_num      346\n",
      "koi_tce_delivname     346\n",
      "koi_steff             363\n",
      "koi_steff_err1        468\n",
      "koi_steff_err2        483\n",
      "koi_slogg             363\n",
      "koi_slogg_err1        468\n",
      "koi_slogg_err2        468\n",
      "koi_srad              363\n",
      "koi_srad_err1         468\n",
      "koi_srad_err2         468\n",
      "ra                      0\n",
      "dec                     0\n",
      "koi_kepmag              1\n",
      "dtype: int64\n"
     ]
    }
   ],
   "source": [
    "# Check for missing values\n",
    "print(\"\\nMissing Values:\")\n",
    "print(df.isnull().sum())"
   ]
  },
  {
   "cell_type": "code",
   "execution_count": 7,
   "id": "6a0d068e",
   "metadata": {
    "execution": {
     "iopub.execute_input": "2025-10-04T20:54:37.828940Z",
     "iopub.status.busy": "2025-10-04T20:54:37.828555Z",
     "iopub.status.idle": "2025-10-04T20:54:37.950132Z",
     "shell.execute_reply": "2025-10-04T20:54:37.948271Z"
    },
    "papermill": {
     "duration": 0.130881,
     "end_time": "2025-10-04T20:54:37.952315",
     "exception": false,
     "start_time": "2025-10-04T20:54:37.821434",
     "status": "completed"
    },
    "tags": []
   },
   "outputs": [
    {
     "name": "stdout",
     "output_type": "stream",
     "text": [
      "\n",
      "Basic Statistics:\n",
      "              kepid    koi_score  koi_fpflag_nt  koi_fpflag_ss  koi_fpflag_co  \\\n",
      "count  9.564000e+03  8054.000000    9564.000000    9564.000000    9564.000000   \n",
      "mean   7.690628e+06     0.480829       0.208595       0.232748       0.197512   \n",
      "std    2.653459e+06     0.476928       4.767290       0.422605       0.398142   \n",
      "min    7.574500e+05     0.000000       0.000000       0.000000       0.000000   \n",
      "25%    5.556034e+06     0.000000       0.000000       0.000000       0.000000   \n",
      "50%    7.906892e+06     0.334000       0.000000       0.000000       0.000000   \n",
      "75%    9.873066e+06     0.998000       0.000000       0.000000       0.000000   \n",
      "max    1.293514e+07     1.000000     465.000000       1.000000       1.000000   \n",
      "\n",
      "       koi_fpflag_ec     koi_period  koi_period_err1  koi_period_err2  \\\n",
      "count    9564.000000    9564.000000      9110.000000      9110.000000   \n",
      "mean        0.120033      75.671358         0.002148        -0.002148   \n",
      "std         0.325018    1334.744046         0.008243         0.008243   \n",
      "min         0.000000       0.241843         0.000000        -0.173000   \n",
      "25%         0.000000       2.733684         0.000005        -0.000276   \n",
      "50%         0.000000       9.752831         0.000035        -0.000035   \n",
      "75%         0.000000      40.715178         0.000276        -0.000005   \n",
      "max         1.000000  129995.778400         0.173000         0.000000   \n",
      "\n",
      "       koi_time0bk  ...  koi_steff_err2    koi_slogg  koi_slogg_err1  \\\n",
      "count  9564.000000  ...     9081.000000  9201.000000     9096.000000   \n",
      "mean    166.183251  ...     -162.265059     4.310157        0.120738   \n",
      "std      67.918960  ...       72.746348     0.432606        0.132837   \n",
      "min     120.515914  ...    -1762.000000     0.047000        0.000000   \n",
      "25%     132.761718  ...     -198.000000     4.218000        0.042000   \n",
      "50%     137.224595  ...     -160.000000     4.438000        0.070000   \n",
      "75%     170.694603  ...     -114.000000     4.543000        0.149000   \n",
      "max    1472.522306  ...        0.000000     5.364000        1.472000   \n",
      "\n",
      "       koi_slogg_err2     koi_srad  koi_srad_err1  koi_srad_err2           ra  \\\n",
      "count     9096.000000  9201.000000    9096.000000    9096.000000  9564.000000   \n",
      "mean        -0.143161     1.728712       0.362292      -0.394806   292.060163   \n",
      "std          0.085477     6.127185       0.930870       2.168213     4.766657   \n",
      "min         -1.207000     0.109000       0.000000    -116.137000   279.852720   \n",
      "25%         -0.196000     0.829000       0.129000      -0.250000   288.660770   \n",
      "50%         -0.128000     1.000000       0.251000      -0.111000   292.261125   \n",
      "75%         -0.088000     1.345000       0.364000      -0.069000   295.859160   \n",
      "max          0.000000   229.908000      33.091000       0.000000   301.720760   \n",
      "\n",
      "               dec   koi_kepmag  \n",
      "count  9564.000000  9563.000000  \n",
      "mean     43.810433    14.264606  \n",
      "std       3.601243     1.385448  \n",
      "min      36.577381     6.966000  \n",
      "25%      40.777173    13.440000  \n",
      "50%      43.677504    14.520000  \n",
      "75%      46.714611    15.322000  \n",
      "max      52.336010    20.003000  \n",
      "\n",
      "[8 rows x 44 columns]\n"
     ]
    }
   ],
   "source": [
    "# Display basic statistics for numerical columns\n",
    "print(\"\\nBasic Statistics:\")\n",
    "print(df.describe())"
   ]
  },
  {
   "cell_type": "markdown",
   "id": "c4df2371",
   "metadata": {
    "papermill": {
     "duration": 0.005302,
     "end_time": "2025-10-04T20:54:37.963422",
     "exception": false,
     "start_time": "2025-10-04T20:54:37.958120",
     "status": "completed"
    },
    "tags": []
   },
   "source": [
    "## Data Cleaning"
   ]
  },
  {
   "cell_type": "code",
   "execution_count": 8,
   "id": "1a93c884",
   "metadata": {
    "execution": {
     "iopub.execute_input": "2025-10-04T20:54:37.976369Z",
     "iopub.status.busy": "2025-10-04T20:54:37.975687Z",
     "iopub.status.idle": "2025-10-04T20:54:37.989744Z",
     "shell.execute_reply": "2025-10-04T20:54:37.988664Z"
    },
    "papermill": {
     "duration": 0.023587,
     "end_time": "2025-10-04T20:54:37.992589",
     "exception": false,
     "start_time": "2025-10-04T20:54:37.969002",
     "status": "completed"
    },
    "tags": []
   },
   "outputs": [],
   "source": [
    "# Drop rows with missing values in specific columns (if needed)\n",
    "df_cleaned = df.dropna(subset=['koi_period', 'koi_prad', 'koi_teq'])\n",
    "\n",
    "# Or fill missing values with the median (for numerical columns)\n",
    "df['koi_period'] = df['koi_period'].fillna(df['koi_period'].median())\n",
    "df['koi_prad'] = df['koi_prad'].fillna(df['koi_prad'].median())\n",
    "df['koi_teq'] = df['koi_teq'].fillna(df['koi_teq'].median())"
   ]
  },
  {
   "cell_type": "code",
   "execution_count": null,
   "id": "f91c6b52",
   "metadata": {},
   "outputs": [],
   "source": []
  },
  {
   "cell_type": "code",
   "execution_count": 9,
   "id": "5b1c4702",
   "metadata": {
    "execution": {
     "iopub.execute_input": "2025-10-04T20:54:38.007649Z",
     "iopub.status.busy": "2025-10-04T20:54:38.007272Z",
     "iopub.status.idle": "2025-10-04T20:54:38.021218Z",
     "shell.execute_reply": "2025-10-04T20:54:38.019227Z"
    },
    "papermill": {
     "duration": 0.023892,
     "end_time": "2025-10-04T20:54:38.023407",
     "exception": false,
     "start_time": "2025-10-04T20:54:37.999515",
     "status": "completed"
    },
    "tags": []
   },
   "outputs": [
    {
     "name": "stdout",
     "output_type": "stream",
     "text": [
      "\n",
      "Missing Values After Filling:\n",
      "kepid                   0\n",
      "kepoi_name              0\n",
      "kepler_name          6819\n",
      "koi_disposition         0\n",
      "koi_pdisposition        0\n",
      "koi_score            1510\n",
      "koi_fpflag_nt           0\n",
      "koi_fpflag_ss           0\n",
      "koi_fpflag_co           0\n",
      "koi_fpflag_ec           0\n",
      "koi_period              0\n",
      "koi_period_err1       454\n",
      "koi_period_err2       454\n",
      "koi_time0bk             0\n",
      "koi_time0bk_err1      454\n",
      "koi_time0bk_err2      454\n",
      "koi_impact            363\n",
      "koi_impact_err1       454\n",
      "koi_impact_err2       454\n",
      "koi_duration            0\n",
      "koi_duration_err1     454\n",
      "koi_duration_err2     454\n",
      "koi_depth             363\n",
      "koi_depth_err1        454\n",
      "koi_depth_err2        454\n",
      "koi_prad                0\n",
      "koi_prad_err1         363\n",
      "koi_prad_err2         363\n",
      "koi_teq                 0\n",
      "koi_teq_err1         9564\n",
      "koi_teq_err2         9564\n",
      "koi_insol             321\n",
      "koi_insol_err1        321\n",
      "koi_insol_err2        321\n",
      "koi_model_snr         363\n",
      "koi_tce_plnt_num      346\n",
      "koi_tce_delivname     346\n",
      "koi_steff             363\n",
      "koi_steff_err1        468\n",
      "koi_steff_err2        483\n",
      "koi_slogg             363\n",
      "koi_slogg_err1        468\n",
      "koi_slogg_err2        468\n",
      "koi_srad              363\n",
      "koi_srad_err1         468\n",
      "koi_srad_err2         468\n",
      "ra                      0\n",
      "dec                     0\n",
      "koi_kepmag              1\n",
      "dtype: int64\n"
     ]
    }
   ],
   "source": [
    "print(\"\\nMissing Values After Filling:\")\n",
    "print(df.isnull().sum())"
   ]
  },
  {
   "cell_type": "code",
   "execution_count": 10,
   "id": "d1e76505",
   "metadata": {
    "execution": {
     "iopub.execute_input": "2025-10-04T20:54:38.038335Z",
     "iopub.status.busy": "2025-10-04T20:54:38.037906Z",
     "iopub.status.idle": "2025-10-04T20:54:38.088001Z",
     "shell.execute_reply": "2025-10-04T20:54:38.086481Z"
    },
    "papermill": {
     "duration": 0.060769,
     "end_time": "2025-10-04T20:54:38.090193",
     "exception": false,
     "start_time": "2025-10-04T20:54:38.029424",
     "status": "completed"
    },
    "tags": []
   },
   "outputs": [
    {
     "name": "stderr",
     "output_type": "stream",
     "text": [
      "/Users/atharv/Projects/NASA_Project/Model/.venv/lib/python3.13/site-packages/numpy/lib/_nanfunctions_impl.py:1214: RuntimeWarning: Mean of empty slice\n",
      "  return np.nanmean(a, axis, out=out, keepdims=keepdims)\n",
      "/Users/atharv/Projects/NASA_Project/Model/.venv/lib/python3.13/site-packages/numpy/lib/_nanfunctions_impl.py:1214: RuntimeWarning: Mean of empty slice\n",
      "  return np.nanmean(a, axis, out=out, keepdims=keepdims)\n"
     ]
    }
   ],
   "source": [
    "# Fill missing values for numerical columns\n",
    "numerical_columns = df.select_dtypes(include=['float64', 'int64']).columns\n",
    "\n",
    "for col in numerical_columns:\n",
    "    if df[col].isnull().sum() > 0:  # Check if the column has missing values\n",
    "        df[col] = df[col].fillna(df[col].median())  # Fill with median"
   ]
  },
  {
   "cell_type": "code",
   "execution_count": 11,
   "id": "9bc5dcbb",
   "metadata": {
    "execution": {
     "iopub.execute_input": "2025-10-04T20:54:38.103861Z",
     "iopub.status.busy": "2025-10-04T20:54:38.103481Z",
     "iopub.status.idle": "2025-10-04T20:54:38.116667Z",
     "shell.execute_reply": "2025-10-04T20:54:38.115241Z"
    },
    "papermill": {
     "duration": 0.023101,
     "end_time": "2025-10-04T20:54:38.119410",
     "exception": false,
     "start_time": "2025-10-04T20:54:38.096309",
     "status": "completed"
    },
    "tags": []
   },
   "outputs": [],
   "source": [
    "# Fill missing values for categorical columns\n",
    "categorical_columns = df.select_dtypes(include=['object']).columns\n",
    "\n",
    "for col in categorical_columns:\n",
    "    if df[col].isnull().sum() > 0:  # Check if the column has missing values\n",
    "        df[col] = df[col].fillna(\"Unknown\")  # Fill with \"Unknown\""
   ]
  },
  {
   "cell_type": "code",
   "execution_count": 12,
   "id": "40793fa1",
   "metadata": {
    "execution": {
     "iopub.execute_input": "2025-10-04T20:54:38.132769Z",
     "iopub.status.busy": "2025-10-04T20:54:38.132368Z",
     "iopub.status.idle": "2025-10-04T20:54:38.146426Z",
     "shell.execute_reply": "2025-10-04T20:54:38.144784Z"
    },
    "papermill": {
     "duration": 0.023157,
     "end_time": "2025-10-04T20:54:38.148634",
     "exception": false,
     "start_time": "2025-10-04T20:54:38.125477",
     "status": "completed"
    },
    "tags": []
   },
   "outputs": [
    {
     "name": "stdout",
     "output_type": "stream",
     "text": [
      "Missing Values After Filling:\n",
      "kepid                   0\n",
      "kepoi_name              0\n",
      "kepler_name             0\n",
      "koi_disposition         0\n",
      "koi_pdisposition        0\n",
      "koi_score               0\n",
      "koi_fpflag_nt           0\n",
      "koi_fpflag_ss           0\n",
      "koi_fpflag_co           0\n",
      "koi_fpflag_ec           0\n",
      "koi_period              0\n",
      "koi_period_err1         0\n",
      "koi_period_err2         0\n",
      "koi_time0bk             0\n",
      "koi_time0bk_err1        0\n",
      "koi_time0bk_err2        0\n",
      "koi_impact              0\n",
      "koi_impact_err1         0\n",
      "koi_impact_err2         0\n",
      "koi_duration            0\n",
      "koi_duration_err1       0\n",
      "koi_duration_err2       0\n",
      "koi_depth               0\n",
      "koi_depth_err1          0\n",
      "koi_depth_err2          0\n",
      "koi_prad                0\n",
      "koi_prad_err1           0\n",
      "koi_prad_err2           0\n",
      "koi_teq                 0\n",
      "koi_teq_err1         9564\n",
      "koi_teq_err2         9564\n",
      "koi_insol               0\n",
      "koi_insol_err1          0\n",
      "koi_insol_err2          0\n",
      "koi_model_snr           0\n",
      "koi_tce_plnt_num        0\n",
      "koi_tce_delivname       0\n",
      "koi_steff               0\n",
      "koi_steff_err1          0\n",
      "koi_steff_err2          0\n",
      "koi_slogg               0\n",
      "koi_slogg_err1          0\n",
      "koi_slogg_err2          0\n",
      "koi_srad                0\n",
      "koi_srad_err1           0\n",
      "koi_srad_err2           0\n",
      "ra                      0\n",
      "dec                     0\n",
      "koi_kepmag              0\n",
      "dtype: int64\n"
     ]
    }
   ],
   "source": [
    "print(\"Missing Values After Filling:\")\n",
    "print(df.isnull().sum())"
   ]
  },
  {
   "cell_type": "code",
   "execution_count": 13,
   "id": "8da437be",
   "metadata": {
    "execution": {
     "iopub.execute_input": "2025-10-04T20:54:38.162723Z",
     "iopub.status.busy": "2025-10-04T20:54:38.162356Z",
     "iopub.status.idle": "2025-10-04T20:54:38.178385Z",
     "shell.execute_reply": "2025-10-04T20:54:38.176695Z"
    },
    "papermill": {
     "duration": 0.02539,
     "end_time": "2025-10-04T20:54:38.180628",
     "exception": false,
     "start_time": "2025-10-04T20:54:38.155238",
     "status": "completed"
    },
    "tags": []
   },
   "outputs": [
    {
     "name": "stdout",
     "output_type": "stream",
     "text": [
      "Columns after dropping:\n",
      "Index(['kepid', 'kepoi_name', 'kepler_name', 'koi_disposition',\n",
      "       'koi_pdisposition', 'koi_score', 'koi_fpflag_nt', 'koi_fpflag_ss',\n",
      "       'koi_fpflag_co', 'koi_fpflag_ec', 'koi_period', 'koi_period_err1',\n",
      "       'koi_period_err2', 'koi_time0bk', 'koi_time0bk_err1',\n",
      "       'koi_time0bk_err2', 'koi_impact', 'koi_impact_err1', 'koi_impact_err2',\n",
      "       'koi_duration', 'koi_duration_err1', 'koi_duration_err2', 'koi_depth',\n",
      "       'koi_depth_err1', 'koi_depth_err2', 'koi_prad', 'koi_prad_err1',\n",
      "       'koi_prad_err2', 'koi_teq', 'koi_insol', 'koi_insol_err1',\n",
      "       'koi_insol_err2', 'koi_model_snr', 'koi_tce_plnt_num',\n",
      "       'koi_tce_delivname', 'koi_steff', 'koi_steff_err1', 'koi_steff_err2',\n",
      "       'koi_slogg', 'koi_slogg_err1', 'koi_slogg_err2', 'koi_srad',\n",
      "       'koi_srad_err1', 'koi_srad_err2', 'ra', 'dec', 'koi_kepmag'],\n",
      "      dtype='object')\n"
     ]
    }
   ],
   "source": [
    "# Drop the columns\n",
    "df_cleaned = df.drop(columns=['koi_teq_err1', 'koi_teq_err2'])\n",
    "\n",
    "# Verify the columns are dropped\n",
    "print(\"Columns after dropping:\")\n",
    "print(df_cleaned.columns)"
   ]
  },
  {
   "cell_type": "code",
   "execution_count": 14,
   "id": "383db7dd",
   "metadata": {
    "execution": {
     "iopub.execute_input": "2025-10-04T20:54:38.197566Z",
     "iopub.status.busy": "2025-10-04T20:54:38.197203Z",
     "iopub.status.idle": "2025-10-04T20:54:38.212396Z",
     "shell.execute_reply": "2025-10-04T20:54:38.210971Z"
    },
    "papermill": {
     "duration": 0.027432,
     "end_time": "2025-10-04T20:54:38.214694",
     "exception": false,
     "start_time": "2025-10-04T20:54:38.187262",
     "status": "completed"
    },
    "tags": []
   },
   "outputs": [
    {
     "name": "stdout",
     "output_type": "stream",
     "text": [
      "Missing Values After Handling:\n",
      "kepid                0\n",
      "kepoi_name           0\n",
      "kepler_name          0\n",
      "koi_disposition      0\n",
      "koi_pdisposition     0\n",
      "koi_score            0\n",
      "koi_fpflag_nt        0\n",
      "koi_fpflag_ss        0\n",
      "koi_fpflag_co        0\n",
      "koi_fpflag_ec        0\n",
      "koi_period           0\n",
      "koi_period_err1      0\n",
      "koi_period_err2      0\n",
      "koi_time0bk          0\n",
      "koi_time0bk_err1     0\n",
      "koi_time0bk_err2     0\n",
      "koi_impact           0\n",
      "koi_impact_err1      0\n",
      "koi_impact_err2      0\n",
      "koi_duration         0\n",
      "koi_duration_err1    0\n",
      "koi_duration_err2    0\n",
      "koi_depth            0\n",
      "koi_depth_err1       0\n",
      "koi_depth_err2       0\n",
      "koi_prad             0\n",
      "koi_prad_err1        0\n",
      "koi_prad_err2        0\n",
      "koi_teq              0\n",
      "koi_insol            0\n",
      "koi_insol_err1       0\n",
      "koi_insol_err2       0\n",
      "koi_model_snr        0\n",
      "koi_tce_plnt_num     0\n",
      "koi_tce_delivname    0\n",
      "koi_steff            0\n",
      "koi_steff_err1       0\n",
      "koi_steff_err2       0\n",
      "koi_slogg            0\n",
      "koi_slogg_err1       0\n",
      "koi_slogg_err2       0\n",
      "koi_srad             0\n",
      "koi_srad_err1        0\n",
      "koi_srad_err2        0\n",
      "ra                   0\n",
      "dec                  0\n",
      "koi_kepmag           0\n",
      "dtype: int64\n"
     ]
    }
   ],
   "source": [
    "print(\"Missing Values After Handling:\")\n",
    "print(df_cleaned.isnull().sum())"
   ]
  },
  {
   "cell_type": "markdown",
   "id": "292608ef",
   "metadata": {
    "papermill": {
     "duration": 0.006568,
     "end_time": "2025-10-04T20:54:38.228217",
     "exception": false,
     "start_time": "2025-10-04T20:54:38.221649",
     "status": "completed"
    },
    "tags": []
   },
   "source": [
    "## Exploratory Data Analysis"
   ]
  },
  {
   "cell_type": "code",
   "execution_count": 15,
   "id": "88e1a3d1",
   "metadata": {
    "execution": {
     "iopub.execute_input": "2025-10-04T20:54:38.242912Z",
     "iopub.status.busy": "2025-10-04T20:54:38.242492Z",
     "iopub.status.idle": "2025-10-04T20:54:38.553808Z",
     "shell.execute_reply": "2025-10-04T20:54:38.552552Z"
    },
    "papermill": {
     "duration": 0.320789,
     "end_time": "2025-10-04T20:54:38.555734",
     "exception": false,
     "start_time": "2025-10-04T20:54:38.234945",
     "status": "completed"
    },
    "tags": []
   },
   "outputs": [
    {
     "name": "stderr",
     "output_type": "stream",
     "text": [
      "/var/folders/47/sp4k_30s6dq54l3c36v2t_1c0000gn/T/ipykernel_16447/1148527251.py:7: FutureWarning: \n",
      "\n",
      "Passing `palette` without assigning `hue` is deprecated and will be removed in v0.14.0. Assign the `x` variable to `hue` and set `legend=False` for the same effect.\n",
      "\n",
      "  sns.countplot(x='koi_disposition', data=df, palette='viridis')\n"
     ]
    },
    {
     "data": {
      "image/png": "[encoded data removed]",
      "text/plain": [
       "<Figure size 1000x600 with 1 Axes>"
      ]
     },
     "metadata": {},
     "output_type": "display_data"
    }
   ],
   "source": [
    "# For visualizing the number of confirm, disposition and false postive candidates.\n",
    "\n",
    "import seaborn as sns\n",
    "import matplotlib.pyplot as plt\n",
    "\n",
    "plt.figure(figsize=(10, 6))\n",
    "sns.countplot(x='koi_disposition', data=df, palette='viridis')\n",
    "plt.title('Distribution of KOI Dispositions')\n",
    "plt.xlabel('Disposition')\n",
    "plt.ylabel('Count')\n",
    "plt.show()"
   ]
  },
  {
   "cell_type": "code",
   "execution_count": 16,
   "id": "bcc3bbed",
   "metadata": {
    "execution": {
     "iopub.execute_input": "2025-10-04T20:54:38.571854Z",
     "iopub.status.busy": "2025-10-04T20:54:38.571419Z",
     "iopub.status.idle": "2025-10-04T20:54:39.083725Z",
     "shell.execute_reply": "2025-10-04T20:54:39.082094Z"
    },
    "papermill": {
     "duration": 0.522611,
     "end_time": "2025-10-04T20:54:39.085790",
     "exception": false,
     "start_time": "2025-10-04T20:54:38.563179",
     "status": "completed"
    },
    "tags": []
   },
   "outputs": [
    {
     "data": {
      "image/png": "[encoded data removed]",
      "text/plain": [
       "<Figure size 1000x600 with 1 Axes>"
      ]
     },
     "metadata": {},
     "output_type": "display_data"
    }
   ],
   "source": [
    "# Distribution of orbital period visualization \n",
    "plt.figure(figsize=(10, 6))\n",
    "sns.histplot(df['koi_period'].dropna(), bins=50, kde=True, color='blue')\n",
    "plt.title('Distribution of Orbital Periods')\n",
    "plt.xlabel('Orbital Period (days)')\n",
    "plt.ylabel('Frequency')\n",
    "plt.show()"
   ]
  },
  {
   "cell_type": "code",
   "execution_count": 17,
   "id": "25ed72aa",
   "metadata": {
    "execution": {
     "iopub.execute_input": "2025-10-04T20:54:39.102788Z",
     "iopub.status.busy": "2025-10-04T20:54:39.102400Z",
     "iopub.status.idle": "2025-10-04T20:54:39.712559Z",
     "shell.execute_reply": "2025-10-04T20:54:39.711338Z"
    },
    "papermill": {
     "duration": 0.621139,
     "end_time": "2025-10-04T20:54:39.714735",
     "exception": false,
     "start_time": "2025-10-04T20:54:39.093596",
     "status": "completed"
    },
    "tags": []
   },
   "outputs": [
    {
     "data": {
      "image/png": "[encoded data removed]",
      "text/plain": [
       "<Figure size 1000x600 with 1 Axes>"
      ]
     },
     "metadata": {},
     "output_type": "display_data"
    }
   ],
   "source": [
    "#planetaray radius vs equillibrium temperature\n",
    "plt.figure(figsize=(10, 6))\n",
    "sns.scatterplot(x='koi_prad', y='koi_teq', hue='koi_disposition', data=df, palette='coolwarm')\n",
    "plt.title('Planetary Radius vs. Equilibrium Temperature')\n",
    "plt.xlabel('Planetary Radius (Earth Radii)')\n",
    "plt.ylabel('Equilibrium Temperature (K)')\n",
    "plt.show()"
   ]
  },
  {
   "cell_type": "code",
   "execution_count": 18,
   "id": "15797a8a",
   "metadata": {
    "execution": {
     "iopub.execute_input": "2025-10-04T20:54:39.733200Z",
     "iopub.status.busy": "2025-10-04T20:54:39.732654Z",
     "iopub.status.idle": "2025-10-04T20:54:40.481277Z",
     "shell.execute_reply": "2025-10-04T20:54:40.480008Z"
    },
    "papermill": {
     "duration": 0.760161,
     "end_time": "2025-10-04T20:54:40.483162",
     "exception": false,
     "start_time": "2025-10-04T20:54:39.723001",
     "status": "completed"
    },
    "tags": []
   },
   "outputs": [
    {
     "data": {
      "image/png": "[encoded data removed]",
      "text/plain": [
       "<Figure size 1200x600 with 1 Axes>"
      ]
     },
     "metadata": {},
     "output_type": "display_data"
    },
    {
     "data": {
      "image/png": "[encoded data removed]",
      "text/plain": [
       "<Figure size 1200x600 with 1 Axes>"
      ]
     },
     "metadata": {},
     "output_type": "display_data"
    }
   ],
   "source": [
    "# Stellar Effective Temperature\n",
    "plt.figure(figsize=(12, 6))\n",
    "sns.histplot(df['koi_steff'].dropna(), bins=50, kde=True, color='orange')\n",
    "plt.title('Distribution of Stellar Effective Temperature')\n",
    "plt.xlabel('Stellar Effective Temperature (K)')\n",
    "plt.ylabel('Frequency')\n",
    "plt.show()\n",
    "\n",
    "# Stellar Surface Gravity\n",
    "plt.figure(figsize=(12, 6))\n",
    "sns.histplot(df['koi_slogg'].dropna(), bins=50, kde=True, color='green')\n",
    "plt.title('Distribution of Stellar Surface Gravity')\n",
    "plt.xlabel('Stellar Surface Gravity (log10(cm/s²))')\n",
    "plt.ylabel('Frequency')\n",
    "plt.show()"
   ]
  },
  {
   "cell_type": "markdown",
   "id": "977dcb00",
   "metadata": {
    "papermill": {
     "duration": 0.011201,
     "end_time": "2025-10-04T20:54:40.505215",
     "exception": false,
     "start_time": "2025-10-04T20:54:40.494014",
     "status": "completed"
    },
    "tags": []
   },
   "source": [
    "## Feature Engineering"
   ]
  },
  {
   "cell_type": "code",
   "execution_count": 19,
   "id": "880d54cc",
   "metadata": {
    "execution": {
     "iopub.execute_input": "2025-10-04T20:54:40.527371Z",
     "iopub.status.busy": "2025-10-04T20:54:40.526992Z",
     "iopub.status.idle": "2025-10-04T20:54:40.543469Z",
     "shell.execute_reply": "2025-10-04T20:54:40.542178Z"
    },
    "papermill": {
     "duration": 0.029371,
     "end_time": "2025-10-04T20:54:40.545175",
     "exception": false,
     "start_time": "2025-10-04T20:54:40.515804",
     "status": "completed"
    },
    "tags": []
   },
   "outputs": [
    {
     "name": "stdout",
     "output_type": "stream",
     "text": [
      "\n",
      "Number of planets in the habitable zone:\n",
      "habitable_zone\n",
      "0    8977\n",
      "1     587\n",
      "Name: count, dtype: int64\n"
     ]
    }
   ],
   "source": [
    "df['habitable_zone'] = df['koi_insol'].apply(lambda x: 1 if 0.25 < x < 1.5 else 0)\n",
    "\n",
    "# Count habitable zone planets\n",
    "print(\"\\nNumber of planets in the habitable zone:\")\n",
    "print(df['habitable_zone'].value_counts())"
   ]
  },
  {
   "cell_type": "code",
   "execution_count": 20,
   "id": "89b11558",
   "metadata": {
    "execution": {
     "iopub.execute_input": "2025-10-04T20:54:40.567622Z",
     "iopub.status.busy": "2025-10-04T20:54:40.567269Z",
     "iopub.status.idle": "2025-10-04T20:54:40.583437Z",
     "shell.execute_reply": "2025-10-04T20:54:40.582188Z"
    },
    "papermill": {
     "duration": 0.031146,
     "end_time": "2025-10-04T20:54:40.586451",
     "exception": false,
     "start_time": "2025-10-04T20:54:40.555305",
     "status": "completed"
    },
    "tags": []
   },
   "outputs": [],
   "source": [
    "from sklearn.preprocessing import LabelEncoder\n",
    "from sklearn.model_selection import train_test_split\n",
    "\n",
    "# Encode target variable\n",
    "le = LabelEncoder()\n",
    "df['koi_disposition_encoded'] = le.fit_transform(df['koi_disposition'])\n",
    "\n",
    "# Select features and target\n",
    "features = ['koi_period', 'koi_prad', 'koi_teq', 'koi_insol','koi_model_snr','koi_srad','koi_depth','koi_duration']\n",
    "X = df[features]\n",
    "y = df['koi_disposition_encoded']\n",
    "\n",
    "# Split the data\n",
    "X_train, X_test, y_train, y_test = train_test_split(X, y, test_size=0.25, random_state=42)"
   ]
  },
  {
   "cell_type": "code",
   "execution_count": 21,
   "id": "c82177fb",
   "metadata": {
    "execution": {
     "iopub.execute_input": "2025-10-04T20:54:40.609754Z",
     "iopub.status.busy": "2025-10-04T20:54:40.609399Z",
     "iopub.status.idle": "2025-10-04T20:54:42.747999Z",
     "shell.execute_reply": "2025-10-04T20:54:42.745873Z"
    },
    "papermill": {
     "duration": 2.152806,
     "end_time": "2025-10-04T20:54:42.750319",
     "exception": false,
     "start_time": "2025-10-04T20:54:40.597513",
     "status": "completed"
    },
    "tags": []
   },
   "outputs": [
    {
     "name": "stdout",
     "output_type": "stream",
     "text": [
      "\n",
      "Classification Report:\n",
      "                precision    recall  f1-score   support\n",
      "\n",
      "     CANDIDATE       0.56      0.45      0.50       513\n",
      "     CONFIRMED       0.77      0.83      0.80       688\n",
      "FALSE POSITIVE       0.80      0.83      0.81      1190\n",
      "\n",
      "      accuracy                           0.75      2391\n",
      "     macro avg       0.71      0.70      0.70      2391\n",
      "  weighted avg       0.74      0.75      0.74      2391\n",
      "\n",
      "Accuracy: 0.7465495608531995\n"
     ]
    }
   ],
   "source": [
    "from sklearn.ensemble import RandomForestClassifier\n",
    "from sklearn.metrics import classification_report, accuracy_score\n",
    "\n",
    "# Train the model\n",
    "model = RandomForestClassifier(random_state=42)\n",
    "model.fit(X_train, y_train)\n",
    "\n",
    "# Evaluate the model\n",
    "y_pred = model.predict(X_test)\n",
    "print(\"\\nClassification Report:\")\n",
    "print(classification_report(y_test, y_pred, target_names=le.classes_))\n",
    "print('Accuracy:', accuracy_score(y_test, y_pred))"
   ]
  },
  {
   "cell_type": "code",
   "execution_count": 22,
   "id": "4f7618c8",
   "metadata": {},
   "outputs": [
    {
     "name": "stdout",
     "output_type": "stream",
     "text": [
      "✅ Model saved to /kaggle/working/random_forest.pkl\n"
     ]
    }
   ],
   "source": [
    "import joblib\n",
    "# Save model to /kaggle/working/ so you can download it\n",
    "joblib.dump(model, \"random_forest.pkl\")\n",
    "print(\"✅ Model saved to /kaggle/working/random_forest.pkl\")"
   ]
  },
  {
   "cell_type": "code",
   "execution_count": 23,
   "id": "57dae00b",
   "metadata": {},
   "outputs": [
    {
     "name": "stdout",
     "output_type": "stream",
     "text": [
      "1.7.2\n"
     ]
    }
   ],
   "source": [
    "import sklearn\n",
    "print(sklearn.__version__)"
   ]
  }
 ],
 "metadata": {
  "kaggle": {
   "accelerator": "none",
   "dataSources": [
    {
     "datasetId": 6942156,
     "sourceId": 11130987,
     "sourceType": "datasetVersion"
    }
   ],
   "dockerImageVersionId": 30918,
   "isGpuEnabled": false,
   "isInternetEnabled": true,
   "language": "python",
   "sourceType": "notebook"
  },
  "kernelspec": {
   "display_name": ".venv",
   "language": "python",
   "name": "python3"
  },
  "language_info": {
   "codemirror_mode": {
    "name": "ipython",
    "version": 3
   },
   "file_extension": ".py",
   "mimetype": "text/x-python",
   "name": "python",
   "nbconvert_exporter": "python",
   "pygments_lexer": "ipython3",
   "version": "3.13.7"
  },
  "papermill": {
   "default_parameters": {},
   "duration": 13.595023,
   "end_time": "2025-10-04T20:54:43.583082",
   "environment_variables": {},
   "exception": null,
   "input_path": "__notebook__.ipynb",
   "output_path": "__notebook__.ipynb",
   "parameters": {},
   "start_time": "2025-10-04T20:54:29.988059",
   "version": "2.6.0"
  }
 },
 "nbformat": 4,
 "nbformat_minor": 5
}
